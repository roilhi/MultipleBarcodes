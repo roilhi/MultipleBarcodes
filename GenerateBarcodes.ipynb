{
 "cells": [
  {
   "cell_type": "code",
   "execution_count": 6,
   "metadata": {},
   "outputs": [],
   "source": [
    "import pandas as pd\n",
    "from barcode import Code128\n",
    "from barcode.writer import ImageWriter\n",
    "from pdf417 import encode, render_image, render_svg"
   ]
  },
  {
   "cell_type": "code",
   "execution_count": 11,
   "metadata": {},
   "outputs": [],
   "source": [
    "dataFrame = pd.read_excel('TheCodes.xlsx')\n",
    "results = list(dataFrame['codes'])\n",
    "resultsStr = []\n",
    "for result in results:\n",
    "    resultsStr.append(str(result))\n",
    "writer = ImageWriter()\n",
    "for itemx in resultsStr:\n",
    "    codes = Code128(itemx, writer)\n",
    "    image = Code128.save(codes,f'barcode{itemx}.png')"
   ]
  },
  {
   "cell_type": "code",
   "execution_count": null,
   "metadata": {},
   "outputs": [],
   "source": []
  }
 ],
 "metadata": {
  "interpreter": {
   "hash": "ac59ebe37160ed0dfa835113d9b8498d9f09ceb179beaac4002f036b9467c963"
  },
  "kernelspec": {
   "display_name": "Python 3.9.4 64-bit",
   "language": "python",
   "name": "python3"
  },
  "language_info": {
   "codemirror_mode": {
    "name": "ipython",
    "version": 3
   },
   "file_extension": ".py",
   "mimetype": "text/x-python",
   "name": "python",
   "nbconvert_exporter": "python",
   "pygments_lexer": "ipython3",
   "version": "3.9.4"
  },
  "orig_nbformat": 4
 },
 "nbformat": 4,
 "nbformat_minor": 2
}
